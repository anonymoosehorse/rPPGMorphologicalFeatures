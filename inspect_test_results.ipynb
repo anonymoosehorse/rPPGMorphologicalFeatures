{
 "cells": [
  {
   "cell_type": "code",
   "execution_count": 20,
   "metadata": {},
   "outputs": [],
   "source": [
    "from pathlib import Path\n",
    "import pandas as pd\n",
    "from matplotlib import pyplot as plt\n",
    "import seaborn as sns\n",
    "import numpy as np\n",
    "from IPython.display import display,Markdown"
   ]
  },
  {
   "cell_type": "code",
   "execution_count": 21,
   "metadata": {},
   "outputs": [
    {
     "data": {
      "text/html": [
       "<div>\n",
       "<style scoped>\n",
       "    .dataframe tbody tr th:only-of-type {\n",
       "        vertical-align: middle;\n",
       "    }\n",
       "\n",
       "    .dataframe tbody tr th {\n",
       "        vertical-align: top;\n",
       "    }\n",
       "\n",
       "    .dataframe thead th {\n",
       "        text-align: right;\n",
       "    }\n",
       "</style>\n",
       "<table border=\"1\" class=\"dataframe\">\n",
       "  <thead>\n",
       "    <tr style=\"text-align: right;\">\n",
       "      <th></th>\n",
       "      <th>value</th>\n",
       "      <th>Set</th>\n",
       "      <th>Type</th>\n",
       "      <th>ID</th>\n",
       "      <th>Target</th>\n",
       "      <th>Model</th>\n",
       "      <th>InptRep</th>\n",
       "      <th>Dataset</th>\n",
       "      <th>GT</th>\n",
       "      <th>Fold</th>\n",
       "    </tr>\n",
       "  </thead>\n",
       "  <tbody>\n",
       "    <tr>\n",
       "      <th>0</th>\n",
       "      <td>0.0</td>\n",
       "      <td>test</td>\n",
       "      <td>target</td>\n",
       "      <td>p103_v1_source2_0</td>\n",
       "      <td>HR</td>\n",
       "      <td>peakdetection1d</td>\n",
       "      <td>traces</td>\n",
       "      <td>vipl</td>\n",
       "      <td>1</td>\n",
       "      <td>0</td>\n",
       "    </tr>\n",
       "    <tr>\n",
       "      <th>1</th>\n",
       "      <td>0.0</td>\n",
       "      <td>test</td>\n",
       "      <td>pred</td>\n",
       "      <td>p103_v1_source2_0</td>\n",
       "      <td>HR</td>\n",
       "      <td>peakdetection1d</td>\n",
       "      <td>traces</td>\n",
       "      <td>vipl</td>\n",
       "      <td>1</td>\n",
       "      <td>0</td>\n",
       "    </tr>\n",
       "    <tr>\n",
       "      <th>2</th>\n",
       "      <td>0.0</td>\n",
       "      <td>test</td>\n",
       "      <td>target</td>\n",
       "      <td>p103_v1_source2_1</td>\n",
       "      <td>HR</td>\n",
       "      <td>peakdetection1d</td>\n",
       "      <td>traces</td>\n",
       "      <td>vipl</td>\n",
       "      <td>1</td>\n",
       "      <td>0</td>\n",
       "    </tr>\n",
       "    <tr>\n",
       "      <th>3</th>\n",
       "      <td>0.0</td>\n",
       "      <td>test</td>\n",
       "      <td>pred</td>\n",
       "      <td>p103_v1_source2_1</td>\n",
       "      <td>HR</td>\n",
       "      <td>peakdetection1d</td>\n",
       "      <td>traces</td>\n",
       "      <td>vipl</td>\n",
       "      <td>1</td>\n",
       "      <td>0</td>\n",
       "    </tr>\n",
       "    <tr>\n",
       "      <th>4</th>\n",
       "      <td>0.0</td>\n",
       "      <td>test</td>\n",
       "      <td>target</td>\n",
       "      <td>p103_v1_source3_0</td>\n",
       "      <td>HR</td>\n",
       "      <td>peakdetection1d</td>\n",
       "      <td>traces</td>\n",
       "      <td>vipl</td>\n",
       "      <td>1</td>\n",
       "      <td>0</td>\n",
       "    </tr>\n",
       "  </tbody>\n",
       "</table>\n",
       "</div>"
      ],
      "text/plain": [
       "   value   Set    Type                 ID Target            Model InptRep  \\\n",
       "0    0.0  test  target  p103_v1_source2_0     HR  peakdetection1d  traces   \n",
       "1    0.0  test    pred  p103_v1_source2_0     HR  peakdetection1d  traces   \n",
       "2    0.0  test  target  p103_v1_source2_1     HR  peakdetection1d  traces   \n",
       "3    0.0  test    pred  p103_v1_source2_1     HR  peakdetection1d  traces   \n",
       "4    0.0  test  target  p103_v1_source3_0     HR  peakdetection1d  traces   \n",
       "\n",
       "  Dataset  GT  Fold  \n",
       "0    vipl   1     0  \n",
       "1    vipl   1     0  \n",
       "2    vipl   1     0  \n",
       "3    vipl   1     0  \n",
       "4    vipl   1     0  "
      ]
     },
     "execution_count": 21,
     "metadata": {},
     "output_type": "execute_result"
    }
   ],
   "source": [
    "input_path = Path(r\"D:\\Projects\\Waveform\\Code\\AlternativeRubenCode\\waveform_feature_estimation\\model_checkpoints\\cwt-net\\impressed_mason_1203\\TestResults.csv\")\n",
    "\n",
    "df = pd.read_csv(input_path)\n",
    "df.head()"
   ]
  },
  {
   "cell_type": "code",
   "execution_count": 22,
   "metadata": {},
   "outputs": [
    {
     "data": {
      "text/markdown": [
       "## MAE: 1.662123553829106"
      ],
      "text/plain": [
       "<IPython.core.display.Markdown object>"
      ]
     },
     "metadata": {},
     "output_type": "display_data"
    },
    {
     "data": {
      "text/markdown": [
       "## CORR: 0.9713514008054286"
      ],
      "text/plain": [
       "<IPython.core.display.Markdown object>"
      ]
     },
     "metadata": {},
     "output_type": "display_data"
    },
    {
     "data": {
      "image/png": "[encoded data removed]",
      "text/plain": [
       "<Figure size 640x480 with 1 Axes>"
      ]
     },
     "metadata": {},
     "output_type": "display_data"
    }
   ],
   "source": [
    "df_piv = df.pivot(index=\"ID\", columns=\"Type\", values=\"value\")\n",
    "\n",
    "MAE = df_piv['target'].sub(df_piv['pred']).abs().mean()\n",
    "CORR = df_piv['target'].corr(df_piv['pred']).mean()\n",
    "\n",
    "display(Markdown(f\"## MAE: {MAE}\"))\n",
    "display(Markdown(f\"## CORR: {CORR}\"))\n",
    "\n",
    "sns.scatterplot(data=df_piv, x=\"pred\", y=\"target\")\n",
    "plt.show()"
   ]
  },
  {
   "cell_type": "code",
   "execution_count": null,
   "metadata": {},
   "outputs": [],
   "source": [
    "\n",
    "\n"
   ]
  }
 ],
 "metadata": {
  "kernelspec": {
   "display_name": "deeplearning",
   "language": "python",
   "name": "python3"
  },
  "language_info": {
   "codemirror_mode": {
    "name": "ipython",
    "version": 3
   },
   "file_extension": ".py",
   "mimetype": "text/x-python",
   "name": "python",
   "nbconvert_exporter": "python",
   "pygments_lexer": "ipython3",
   "version": "3.11.3"
  }
 },
 "nbformat": 4,
 "nbformat_minor": 2
}
